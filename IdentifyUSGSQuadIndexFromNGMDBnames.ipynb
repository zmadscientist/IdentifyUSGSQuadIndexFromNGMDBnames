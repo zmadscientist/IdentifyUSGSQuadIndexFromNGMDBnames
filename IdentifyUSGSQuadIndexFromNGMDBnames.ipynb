{
 "cells": [
  {
   "cell_type": "code",
   "execution_count": 140,
   "id": "96d2ad04-f153-423e-8d5e-36c9edbcda88",
   "metadata": {},
   "outputs": [],
   "source": [
    "import numpy as np\n",
    "import pandas as pd\n",
    "\n",
    "def IdentifyUSGS_Quad(sample):\n",
    "    S = sample.split()\n",
    "    A = set(S).intersection(set(s)) - set(['the', 'and', 'of', 'or'])\n",
    "    start = 99999\n",
    "    L = 0\n",
    "    T = 0\n",
    "    # set lose the order of the token in the string, find first token and length\n",
    "    for v in A:\n",
    "        start = min(start, sample.index(v))\n",
    "        L += len(v) \n",
    "        print(v)\n",
    "        T += 1\n",
    "    return(sample[start:start+L+T-1])"
   ]
  },
  {
   "cell_type": "code",
   "execution_count": 5,
   "id": "faecd2b6-2a8b-4a7f-952e-af81db5a3921",
   "metadata": {},
   "outputs": [
    {
     "data": {
      "text/html": [
       "<div>\n",
       "<style scoped>\n",
       "    .dataframe tbody tr th:only-of-type {\n",
       "        vertical-align: middle;\n",
       "    }\n",
       "\n",
       "    .dataframe tbody tr th {\n",
       "        vertical-align: top;\n",
       "    }\n",
       "\n",
       "    .dataframe thead th {\n",
       "        text-align: right;\n",
       "    }\n",
       "</style>\n",
       "<table border=\"1\" class=\"dataframe\">\n",
       "  <thead>\n",
       "    <tr style=\"text-align: right;\">\n",
       "      <th></th>\n",
       "      <th>NAME</th>\n",
       "      <th>LAT</th>\n",
       "      <th>LONG</th>\n",
       "    </tr>\n",
       "  </thead>\n",
       "  <tbody>\n",
       "    <tr>\n",
       "      <th>0</th>\n",
       "      <td>Abbott</td>\n",
       "      <td>36.250</td>\n",
       "      <td>-104.250</td>\n",
       "    </tr>\n",
       "    <tr>\n",
       "      <th>1</th>\n",
       "      <td>Abbott Lake</td>\n",
       "      <td>36.125</td>\n",
       "      <td>-104.250</td>\n",
       "    </tr>\n",
       "    <tr>\n",
       "      <th>2</th>\n",
       "      <td>Abbott NW</td>\n",
       "      <td>36.375</td>\n",
       "      <td>-104.375</td>\n",
       "    </tr>\n",
       "    <tr>\n",
       "      <th>3</th>\n",
       "      <td>Abeyta</td>\n",
       "      <td>37.000</td>\n",
       "      <td>-104.125</td>\n",
       "    </tr>\n",
       "    <tr>\n",
       "      <th>4</th>\n",
       "      <td>Abeytas</td>\n",
       "      <td>34.375</td>\n",
       "      <td>-106.750</td>\n",
       "    </tr>\n",
       "    <tr>\n",
       "      <th>...</th>\n",
       "      <td>...</td>\n",
       "      <td>...</td>\n",
       "      <td>...</td>\n",
       "    </tr>\n",
       "    <tr>\n",
       "      <th>2197</th>\n",
       "      <td>Youngsville</td>\n",
       "      <td>36.125</td>\n",
       "      <td>-106.500</td>\n",
       "    </tr>\n",
       "    <tr>\n",
       "      <th>2198</th>\n",
       "      <td>Ysleta NW</td>\n",
       "      <td>31.625</td>\n",
       "      <td>-106.375</td>\n",
       "    </tr>\n",
       "    <tr>\n",
       "      <th>2199</th>\n",
       "      <td>Yt Ranch</td>\n",
       "      <td>32.000</td>\n",
       "      <td>-102.875</td>\n",
       "    </tr>\n",
       "    <tr>\n",
       "      <th>2200</th>\n",
       "      <td>Zuni</td>\n",
       "      <td>35.000</td>\n",
       "      <td>-108.750</td>\n",
       "    </tr>\n",
       "    <tr>\n",
       "      <th>2201</th>\n",
       "      <td>Zuni Salt Lake</td>\n",
       "      <td>34.375</td>\n",
       "      <td>-108.750</td>\n",
       "    </tr>\n",
       "  </tbody>\n",
       "</table>\n",
       "<p>2202 rows × 3 columns</p>\n",
       "</div>"
      ],
      "text/plain": [
       "                NAME     LAT     LONG\n",
       "0             Abbott  36.250 -104.250\n",
       "1        Abbott Lake  36.125 -104.250\n",
       "2          Abbott NW  36.375 -104.375\n",
       "3             Abeyta  37.000 -104.125\n",
       "4            Abeytas  34.375 -106.750\n",
       "...              ...     ...      ...\n",
       "2197     Youngsville  36.125 -106.500\n",
       "2198       Ysleta NW  31.625 -106.375\n",
       "2199        Yt Ranch  32.000 -102.875\n",
       "2200            Zuni  35.000 -108.750\n",
       "2201  Zuni Salt Lake  34.375 -108.750\n",
       "\n",
       "[2202 rows x 3 columns]"
      ]
     },
     "execution_count": 5,
     "metadata": {},
     "output_type": "execute_result"
    }
   ],
   "source": [
    "nm = pd.read_csv('quads_075_csv/quads_075.csv')[['NAME',\t'LAT',\t'LONG']]\n",
    "nm\n"
   ]
  },
  {
   "cell_type": "code",
   "execution_count": 136,
   "id": "38eefd32-56d4-487d-b9d6-46ef1b148b2c",
   "metadata": {},
   "outputs": [
    {
     "name": "stdout",
     "output_type": "stream",
     "text": [
      "Ojito\n",
      "Spring\n"
     ]
    },
    {
     "data": {
      "text/plain": [
       "'Ojito Spring'"
      ]
     },
     "execution_count": 136,
     "metadata": {},
     "output_type": "execute_result"
    }
   ],
   "source": [
    "sample = 'Formento-Trigilio, M.L., Wegmann, K., and Pazzaglia, F.J., 1998, Preliminary geologic map of the Ojito Spring 7.5-minute quadrangle, Sandoval County, New Mexico: New Mexico Bureau of Mines and Mineral Resources, Open-File Geologic Map OF-GM 46, scale 1:24,000.'\n",
    "IdentifyUSGS_Quad(sample)"
   ]
  },
  {
   "cell_type": "code",
   "execution_count": 137,
   "id": "85033045-a4fa-4007-be3f-eff05939d20e",
   "metadata": {},
   "outputs": [
    {
     "name": "stdout",
     "output_type": "stream",
     "text": [
      "La\n",
      "Ventana\n"
     ]
    },
    {
     "data": {
      "text/plain": [
       "'La Ventana'"
      ]
     },
     "execution_count": 137,
     "metadata": {},
     "output_type": "execute_result"
    }
   ],
   "source": [
    "sample2 = 'Berge Exploration, Inc., 1979, Coal resource occurrence and coal development potential maps of the La Ventana quadrangle, Sandoval County, New Mexico: U.S. Geological Survey, Open-File Report OF-79-1038, scale 1:24,000.'\n",
    "IdentifyUSGS_Quad(sample2)"
   ]
  },
  {
   "cell_type": "code",
   "execution_count": 138,
   "id": "49eaddd7-efb5-4df8-92de-63c334cd38e1",
   "metadata": {},
   "outputs": [
    {
     "name": "stdout",
     "output_type": "stream",
     "text": [
      "Empedrado\n",
      "Arroyo\n"
     ]
    },
    {
     "data": {
      "text/plain": [
       "'Arroyo Empedrado'"
      ]
     },
     "execution_count": 138,
     "metadata": {},
     "output_type": "execute_result"
    }
   ],
   "source": [
    "IdentifyUSGS_Quad('Berge Exploration, Inc., 1979, Federal coal resource occurrence and coal development potential maps of the Arroyo Empedrado 7 1/2-minute quadrangle, Sandoval County, New Mexico: U.S. Geological Survey, Open-File Report OF-79-1045, scale 1:24,000.')"
   ]
  },
  {
   "cell_type": "code",
   "execution_count": 141,
   "id": "86dfc716-b77a-43e9-8a3b-2c67d813c9e2",
   "metadata": {},
   "outputs": [
    {
     "name": "stdout",
     "output_type": "stream",
     "text": [
      "Luis\n",
      "San\n"
     ]
    },
    {
     "data": {
      "text/plain": [
       "'San Luis'"
      ]
     },
     "execution_count": 141,
     "metadata": {},
     "output_type": "execute_result"
    }
   ],
   "source": [
    "IdentifyUSGS_Quad('Berge Exploration, Inc., 1979, Federal coal resource occurrence and coal development potential maps of the San Luis 7 1/2-minute quadrangle, Sandoval County, New Mexico: U.S. Geological Survey, Open-File Report OF-79-1044, scale 1:24,000.')"
   ]
  },
  {
   "cell_type": "code",
   "execution_count": 134,
   "id": "87dbd23c-b3ec-4ee6-9bb7-92de7063498f",
   "metadata": {},
   "outputs": [
    {
     "name": "stdout",
     "output_type": "stream",
     "text": [
      "Luis\n",
      "San\n"
     ]
    },
    {
     "data": {
      "text/plain": [
       "'San Luis'"
      ]
     },
     "execution_count": 134,
     "metadata": {},
     "output_type": "execute_result"
    }
   ],
   "source": [
    "sample = 'Berge Exploration, Inc., 1979, Federal coal resource occurrence and coal development potential maps of the San Luis 7 1/2-minute quadrangle, Sandoval County, New Mexico: U.S. Geological Survey, Open-File Report OF-79-1044, scale 1:24,000.'\n",
    "S = sample.split()\n",
    "A = set(S).intersection(set(s)) - set(['the', 'and', 'of', 'or'])\n",
    "start = 99999\n",
    "L = 0\n",
    "T = 0\n",
    "for v in A:\n",
    "    start = min(start, sample.index(v))\n",
    "    L += len(v) \n",
    "    print(v)\n",
    "    T += 1\n",
    "sample[start:start+L+T-1]"
   ]
  },
  {
   "cell_type": "code",
   "execution_count": 92,
   "id": "5878c688-d093-41e1-8612-95d998f00eb9",
   "metadata": {},
   "outputs": [],
   "source": [
    "# Quantization"
   ]
  },
  {
   "cell_type": "code",
   "execution_count": null,
   "id": "078d2a1e-cc89-4281-b8cd-e3987b9bba87",
   "metadata": {},
   "outputs": [],
   "source": [
    "from numpy import array, argmin, sqrt, sum\n",
    "observation = array([131.0, 188.0])\n",
    "codes = array([[102.0, 203.0],\n",
    "               [132.0, 193.0],\n",
    "               [45.0, 155.0],\n",
    "               [57.0, 173.0]])\n",
    "diff = codes - observation    # the broadcast happens here\n",
    "dist = sqrt(sum(diff**2,axis=-1))\n",
    "argmin(dist)"
   ]
  },
  {
   "cell_type": "code",
   "execution_count": null,
   "id": "11068616-44fe-4237-8bd3-d46c392fe107",
   "metadata": {},
   "outputs": [],
   "source": []
  },
  {
   "cell_type": "code",
   "execution_count": 53,
   "id": "d9c9bdc7-4383-4152-8e31-126a999a37da",
   "metadata": {},
   "outputs": [],
   "source": [
    "# sample.capitalize().split() \n",
    "# sample.split()\n",
    "# mask = np.array(sample.split()) == np.array(sample.capitalize().split() )\n",
    "# np.array(sample.split())[~mask]"
   ]
  }
 ],
 "metadata": {
  "kernelspec": {
   "display_name": "Python [conda env:mldl] *",
   "language": "python",
   "name": "conda-env-mldl-py"
  },
  "language_info": {
   "codemirror_mode": {
    "name": "ipython",
    "version": 3
   },
   "file_extension": ".py",
   "mimetype": "text/x-python",
   "name": "python",
   "nbconvert_exporter": "python",
   "pygments_lexer": "ipython3",
   "version": "3.9.17"
  }
 },
 "nbformat": 4,
 "nbformat_minor": 5
}
